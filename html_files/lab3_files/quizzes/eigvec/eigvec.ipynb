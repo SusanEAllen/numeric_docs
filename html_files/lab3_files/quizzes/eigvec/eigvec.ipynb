{
 "cells": [
  {
   "cell_type": "markdown",
   "metadata": {
    "toc": "true"
   },
   "source": [
    " # Table of Contents\n",
    "<div class=\"toc\" style=\"margin-top: 1em;\"><ul class=\"toc-item\" id=\"toc-level0\"><li><span><a href=\"http://localhost:8889/notebooks/Untitled.ipynb?kernel_name=python3#Solution-to-Eigenvectors\" data-toc-modified-id=\"Solution-to-Eigenvectors-1\"><span class=\"toc-item-num\">1&nbsp;&nbsp;</span>Solution to Eigenvectors</a></span></li></ul></div>"
   ]
  },
  {
   "cell_type": "markdown",
   "metadata": {},
   "source": []
  },
  {
   "cell_type": "markdown",
   "metadata": {},
   "source": []
  },
  {
   "cell_type": "markdown",
   "metadata": {},
   "source": [
    "*Press* BACK *to return to the lab.*\n",
    "\n",
    "\\\n",
    "\n",
    "------------------------------------------------------------------------\n",
    "\n",
    "Solution to Eigenvectors\n",
    "========================\n",
    "\n",
    "****\n",
    "\n",
    "****\n",
    "\n",
    "The matrix given is:\n",
    "\n",
    "![](img1.gif)\n",
    "\n",
    "From the previous section, you should have found that the eigenvalues\n",
    "for this matrix are ![](img2.gif) = -1 or 8."
   ]
  },
  {
   "cell_type": "markdown",
   "metadata": {},
   "source": []
  },
  {
   "cell_type": "markdown",
   "metadata": {},
   "source": []
  },
  {
   "cell_type": "markdown",
   "metadata": {},
   "source": []
  },
  {
   "cell_type": "markdown",
   "metadata": {},
   "source": [
    "octave:1**&gt;** B = \\[3 2 4; 2 0 2;4 2 3\\]\\\n",
    "octave:2**&gt;** \\[x, lambda\\] = eig(B)\\\n",
    "x =\\\n",
    "\\\n",
    "0.74536 -0.66667 -0.34487\\\n",
    "-0.29814 -0.33333 -0.65498\\\n",
    "-0.59628 -0.66667 0.67236\\\n",
    "\\\n",
    "lambda =\\\n",
    "\\\n",
    "-1.00000 0.00000 0.00000\\\n",
    "0.00000 8.00000 0.00000\\\n",
    "0.00000 0.00000 -1.00000\\\n",
    "\n",
    "So the answer from Octave gives two unit eigenvectors for ![](img3.gif)\n",
    "= -1, and one solution for ![](img4.gif) = 8.\\\n",
    "\n",
    "Calculation by hand, with ![](img5.gif) = -1, will be:\n",
    "\n",
    "![](img6.gif)\n",
    "\n",
    "Reading from the matrix,\n",
    "\n",
    "![](img7.gif)\n",
    "\n",
    "Remember that ![](img8.gif) = -1 appears as two of the three\n",
    "eigenvalues, so there are two degrees of freedom for the solution, i.e.\n",
    "the solution is actually a plane defined by this equation.\n",
    "\n",
    "So any vector on this plane is an eigenvector of **B**:\n",
    "\n",
    "![](eigvec.gif%0A)\n",
    "\n",
    "The answers, ![](img9.gif) (0.74536, -0.29814, -0.59628) and (-0.34487,\n",
    "-0.65498, 0.67236), shown in Octave for ![](img10.gif) = -1 are only two\n",
    "of the possible unit eigenvectors for the solution. They should satisfy\n",
    "the equation of the plane.\\\n",
    "\n",
    "For ![](img11.gif) = 8, the same method can be used to find the\n",
    "eigenvector:\n",
    "\n",
    "![](img12.gif)\n",
    "\n",
    "Reading from the matrix:\n",
    "\n",
    "![](img13.gif)\n",
    "\n",
    "Letting ![](img14.gif) = 2, then ![](img15.gif) = 1 and ![](img16.gif) =\n",
    "2. This answer is a multiple of the solution given by Octave, which is\n",
    "![](img17.gif) (-0.66667, -0.33333, -0.66667). Note that ![](img18.gif)\n",
    "= 8 has only one degree of freedom.\n",
    "\n",
    "\\\n",
    "\n",
    "------------------------------------------------------------------------\n",
    "\n",
    "*John M. Stockie\\\n",
    "Mon Sep 18 11:40:39 PDT 2017*"
   ]
  },
  {
   "cell_type": "code",
   "execution_count": null,
   "metadata": {
    "collapsed": true
   },
   "outputs": [],
   "source": []
  }
 ],
 "metadata": {
  "kernelspec": {
   "display_name": "Python 3",
   "language": "python",
   "name": "python3"
  },
  "language_info": {
   "codemirror_mode": {
    "name": "ipython",
    "version": 3
   },
   "file_extension": ".py",
   "mimetype": "text/x-python",
   "name": "python",
   "nbconvert_exporter": "python",
   "pygments_lexer": "ipython3",
   "version": "3.6.1"
  },
  "toc": {
   "nav_menu": {},
   "number_sections": true,
   "sideBar": false,
   "skip_h1_title": false,
   "toc_cell": true,
   "toc_position": {},
   "toc_section_display": "block",
   "toc_window_display": false
  }
 },
 "nbformat": 4,
 "nbformat_minor": 2
}
