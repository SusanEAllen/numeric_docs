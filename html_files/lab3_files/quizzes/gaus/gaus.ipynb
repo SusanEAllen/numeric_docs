{
 "cells": [
  {
   "cell_type": "markdown",
   "metadata": {
    "toc": "true"
   },
   "source": [
    " # Table of Contents\n",
    "<div class=\"toc\" style=\"margin-top: 1em;\"><ul class=\"toc-item\" id=\"toc-level0\"><li><span><a href=\"http://localhost:8889/notebooks/gaus/gaus.ipynb#Solution-to-Gaussian-Elimination\" data-toc-modified-id=\"Solution-to-Gaussian-Elimination-1\"><span class=\"toc-item-num\">1&nbsp;&nbsp;</span>Solution to Gaussian Elimination</a></span></li></ul></div>"
   ]
  },
  {
   "cell_type": "markdown",
   "metadata": {},
   "source": [
    "Solution to Gaussian Elimination\n",
    "================================\n",
    "\n",
    "****\n",
    "\n",
    "****\n",
    "\n",
    "Given the set of linear equations:\n",
    "\n",
    "![](img1.gif)\n",
    "\n",
    "Let's look at the solution graphically first.\\\n",
    "\\\n",
    "\n",
    "Figure 1:\\\n",
    "![](eq1.gif)\\\n",
    "Figure 2:\\\n",
    "![](eq2.gif)\\\n",
    "Figure 3:\\\n",
    "![](eq3.gif)\n",
    "\n",
    "Figure 1 is the plane of ![](img2.gif), Figure 2 is the plane of\n",
    "![](img3.gif), and Figure 3 is the plane of ![](img4.gif).\n",
    "\n",
    "The final result will be the intersection of the three planes:\n",
    "\n",
    "![](inter.gif)\n",
    "\n",
    "One way of solving the equations:\n",
    "\n",
    "1.  Divide ![](img5.gif) by 2; multiply ![](img6.gif) by 3 and subtract\n",
    "    it from ![](img7.gif) to cancel ![](img8.gif) from ![](img9.gif);\n",
    "    subtract the new ![](img10.gif) from ![](img11.gif) to cancel\n",
    "    ![](img12.gif) from ![](img13.gif):\n",
    "\n",
    "    ![](img14.gif)\n",
    "\n",
    "2.  Divide ![](img15.gif) by -18; multiply ![](img16.gif) by 2 and add\n",
    "    it to ![](img17.gif) to cancel ![](img18.gif) from ![](img19.gif):\n",
    "\n",
    "    ![](img20.gif)\n",
    "\n",
    "3.  Now, solve for ![](img21.gif), and substitute it into ![](img22.gif)\n",
    "    to solve for ![](img23.gif); then substitute ![](img24.gif) and\n",
    "    ![](img25.gif) into ![](img26.gif) and solve for ![](img27.gif):\n",
    "\n",
    "    ![](img28.gif)\n",
    "\n",
    "So, ![](img29.gif) = -2, ![](img30.gif) = 9 and ![](img31.gif) = 3.\n",
    "\n",
    "Solving the equations in a matrix:\n",
    "\n",
    "Two main steps are involved in this solution. The Gaussian elimination\n",
    "is performed first, followed by the Back-substitution:\n",
    "\n",
    "-   Reducing the matrix with Gaussian elimination\n",
    "\n",
    "    ![](img32.gif)\n",
    "\n",
    "-   Back-substitution\n",
    "\n",
    "    Reading from the matrix:\\\n",
    "\n",
    "    -   finding ![](img33.gif)\n",
    "\n",
    "        ![](img34.gif)\n",
    "\n",
    "    -   finding ![](img35.gif)\n",
    "\n",
    "        ![](img36.gif)\n",
    "\n",
    "    -   finding ![](img37.gif)\n",
    "\n",
    "        ![](img38.gif)\n",
    "\n",
    "So, ![](img39.gif) = -2, ![](img40.gif) = 9 and ![](img41.gif) = 3. As\n",
    "expected, the two different methods give the same answer.\n",
    "\n",
    "\\\n",
    "\n",
    "------------------------------------------------------------------------\n",
    "\n",
    "*John M. Stockie\\\n",
    "Fri Sep 8 14:25:44 PDT 1995*\n"
   ]
  },
  {
   "cell_type": "code",
   "execution_count": null,
   "metadata": {
    "collapsed": true
   },
   "outputs": [],
   "source": []
  }
 ],
 "metadata": {
  "kernelspec": {
   "display_name": "Python 3",
   "language": "python",
   "name": "python3"
  },
  "language_info": {
   "codemirror_mode": {
    "name": "ipython",
    "version": 3
   },
   "file_extension": ".py",
   "mimetype": "text/x-python",
   "name": "python",
   "nbconvert_exporter": "python",
   "pygments_lexer": "ipython3",
   "version": "3.6.2"
  },
  "toc": {
   "nav_menu": {},
   "number_sections": true,
   "sideBar": false,
   "skip_h1_title": false,
   "toc_cell": true,
   "toc_position": {},
   "toc_section_display": "block",
   "toc_window_display": false
  }
 },
 "nbformat": 4,
 "nbformat_minor": 2
}
