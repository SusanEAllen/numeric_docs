{
 "cells": [
  {
   "cell_type": "markdown",
   "metadata": {
    "toc": "true"
   },
   "source": [
    " # Table of Contents\n",
    "<div class=\"toc\" style=\"margin-top: 1em;\"><ul class=\"toc-item\" id=\"toc-level0\"><li><span><a href=\"http://localhost:8888/notebooks/char/char.ipynb#Solution-to-Characteristic-Equation\" data-toc-modified-id=\"Solution-to-Characteristic-Equation-1\"><span class=\"toc-item-num\">1&nbsp;&nbsp;</span>Solution to Characteristic Equation</a></span></li></ul></div>"
   ]
  },
  {
   "cell_type": "markdown",
   "metadata": {},
   "source": [
    "Solution to Characteristic Equation\n",
    "===================================\n",
    "\n",
    "****\n",
    "\n",
    "****\n",
    "\n",
    "Given\n",
    "\n",
    "![](img1.gif)\n",
    "\n",
    "Substituting the matrix into the characteristic equation:\n",
    "\n",
    "![](img2.gif)\n",
    "\n",
    "The eigenvalues of **B** are -1 and 8.\n",
    "\n",
    "Check this answer with Octave:\\\n",
    "\n",
    "octave:1**&gt;** B = \\[3 2 4; 2 0 2; 4 2 3\\]\\\n",
    "octave:2**&gt;** eig(B)\\\n",
    "\n",
    "\\\n",
    "\n",
    "------------------------------------------------------------------------\n",
    "\n",
    "*John M. Stockie\\\n",
    "Fri Sep 8 14:03:35 PDT 1995*\n",
    "\n"
   ]
  },
  {
   "cell_type": "code",
   "execution_count": null,
   "metadata": {
    "collapsed": true
   },
   "outputs": [],
   "source": []
  }
 ],
 "metadata": {
  "kernelspec": {
   "display_name": "Python 3",
   "language": "python",
   "name": "python3"
  },
  "language_info": {
   "codemirror_mode": {
    "name": "ipython",
    "version": 3
   },
   "file_extension": ".py",
   "mimetype": "text/x-python",
   "name": "python",
   "nbconvert_exporter": "python",
   "pygments_lexer": "ipython3",
   "version": "3.6.2"
  },
  "toc": {
   "nav_menu": {},
   "number_sections": true,
   "sideBar": false,
   "skip_h1_title": false,
   "toc_cell": true,
   "toc_position": {},
   "toc_section_display": "block",
   "toc_window_display": false
  }
 },
 "nbformat": 4,
 "nbformat_minor": 2
}
