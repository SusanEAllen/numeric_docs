{
 "cells": [
  {
   "cell_type": "markdown",
   "metadata": {
    "toc": "true"
   },
   "source": [
    " # Table of Contents\n",
    "<div class=\"toc\" style=\"margin-top: 1em;\"><ul class=\"toc-item\" id=\"toc-level0\"><li><span><a href=\"http://localhost:8888/notebooks/det/det.ipynb#Solution-to-Determinant\" data-toc-modified-id=\"Solution-to-Determinant-1\"><span class=\"toc-item-num\">1&nbsp;&nbsp;</span>Solution to Determinant</a></span></li></ul></div>"
   ]
  },
  {
   "cell_type": "markdown",
   "metadata": {},
   "source": [
    "Solution to Determinant\n",
    "============\n",
    "\n",
    "****\n",
    "\n",
    "****\n",
    "\n",
    "1.  Given\n",
    "\n",
    "    ![](img1.gif)\n",
    "\n",
    "    The third row has the most zero entries, so the matrix will be\n",
    "    multiplied about this row to find the determinant. The reason for\n",
    "    choosing this row will become clear below.\\\n",
    "\n",
    "    To find the determinant, you need to first find the components that\n",
    "    make up the determinant of the matrix. For each element\n",
    "    ![](img2.gif) in the chosen row i of a ![](img3.gif) matrix,\n",
    "    ![](img4.gif) is multiplied by the determinant of the matrix without\n",
    "    the row i and the column j i.e. an ![](img5.gif) matrix.\\\n",
    "\n",
    "    In this case, the first element is -1, and the ![](img6.gif) matrix\n",
    "    is the original matrix without row 3 and column 1:\n",
    "\n",
    "    ![](img7.gif)\n",
    "\n",
    "    This is the first component for calculating det(A).\n",
    "\n",
    "    The other components are derived the same way:\n",
    "\n",
    "    ![](img8.gif)\n",
    "\n",
    "    ![](img9.gif)\n",
    "\n",
    "    Before adding the components together to find the determinant, there\n",
    "    is one extra factor that is necessary. Each component has to be\n",
    "    multiplied by the number ![](img10.gif), where i and j are the row\n",
    "    and column, respectively, that contain the element from the chosen\n",
    "    row.\\\n",
    "\n",
    "    So when everything is put together:\n",
    "\n",
    "    ![](img11.gif)\n",
    "\n",
    "    So **A** has an inverse.\n",
    "\n",
    "    Note that since two of the elements in row three are 0, in\n",
    "    calculating the determinant, two of the components can easily be\n",
    "    removed, because they are 0.\n",
    "\n",
    "2.  Given\n",
    "\n",
    "    ![](img12.gif)\n",
    "\n",
    "    The third row should be chosen since it has the most zero entries.\n",
    "    In the same way as the previous question, the various components are\n",
    "    derived, so:\n",
    "\n",
    "    ![](img13.gif)\n",
    "\n",
    "    **B** is singular, i.e. it does not have an inverse.\n",
    "\n",
    "3.  Given\n",
    "\n",
    "    ![](img14.gif)\n",
    "\n",
    "    With Octave,\\\n",
    "\n",
    "    octave:1**&gt;** C = \\[4 -2 -7 6; -3 0 1 0; -1 -1 5 -1; 0 1 -5 3\\]\\\n",
    "    octave:2**&gt;** det(C)\\\n",
    "    \\\n",
    "\n",
    "    you should get ![](img15.gif) = -82 . **C** is non-singular, since\n",
    "    its determinant is not zero. So it has an inverse.\n",
    "\n",
    "\\\n",
    "\n",
    "------------------------------------------------------------------------\n",
    "\n",
    "*John M. Stockie\\\n",
    "Fri Sep 8 14:05:45 PDT 1995*\n"
   ]
  },
  {
   "cell_type": "code",
   "execution_count": null,
   "metadata": {
    "collapsed": true
   },
   "outputs": [],
   "source": []
  }
 ],
 "metadata": {
  "kernelspec": {
   "display_name": "Python 3",
   "language": "python",
   "name": "python3"
  },
  "language_info": {
   "codemirror_mode": {
    "name": "ipython",
    "version": 3
   },
   "file_extension": ".py",
   "mimetype": "text/x-python",
   "name": "python",
   "nbconvert_exporter": "python",
   "pygments_lexer": "ipython3",
   "version": "3.6.2"
  },
  "toc": {
   "nav_menu": {},
   "number_sections": true,
   "sideBar": false,
   "skip_h1_title": false,
   "toc_cell": true,
   "toc_position": {},
   "toc_section_display": "block",
   "toc_window_display": false
  }
 },
 "nbformat": 4,
 "nbformat_minor": 2
}
