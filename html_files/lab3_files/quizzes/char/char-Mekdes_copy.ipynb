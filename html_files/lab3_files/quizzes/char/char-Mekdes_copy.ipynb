{
 "cells": [
  {
   "cell_type": "markdown",
   "metadata": {
    "toc": "true"
   },
   "source": [
    " # Table of Contents\n",
    "<div class=\"toc\" style=\"margin-top: 1em;\"><ul class=\"toc-item\" id=\"toc-level0\"><ul class=\"toc-item\"><li><span><a href=\"http://localhost:8913/notebooks/char-Mekdes_copy.ipynb#Solution-to-Characteristic-Equation\" data-toc-modified-id=\"Solution-to-Characteristic-Equation-0.1\"><span class=\"toc-item-num\">0.1&nbsp;&nbsp;</span>Solution to Characteristic Equation</a></span></li></ul></ul></div>"
   ]
  },
  {
   "cell_type": "markdown",
   "metadata": {},
   "source": [
    "# Table of Contents\n",
    "\n",
    "\n",
    "## Solution to Characteristic Equation\n",
    "\n",
    "\n",
    "Given\n",
    "$$B = \\begin{bmatrix} \n",
    "       3 & 2 & 4\\\\\n",
    "       2 & 0 & 2 \\\\\n",
    "       4 & 2 & 3\n",
    "       \\end{bmatrix}$$\n",
    "\n",
    "Substituting the matrix into the characteristic equation:\n",
    "\n",
    "\n",
    "$$0 = \\det \\left (\\begin{bmatrix} \n",
    "    \\vphantom{1}3 & 2 & 4\\\\\n",
    "       2 & 0 & 2 \\vphantom{1}\\\\ 4 & 2 & 3\n",
    "       \\end{bmatrix} - \\lambda \\begin{bmatrix} \n",
    "       1 & 0 & 0\\\\\n",
    "       0 & 1 & 0 \\\\\n",
    "       0 & 0 & 1\n",
    "       \\end{bmatrix}\\right) = 0 $$\n",
    "\n",
    "$$ = \\det \\begin{bmatrix} \n",
    "       3-\\lambda & 2 & 4\\\\\n",
    "       2 & -\\lambda & 2 \\\\\n",
    "       4 & 2 & 3-\\lambda\n",
    "       \\end{bmatrix} $$\n",
    "       \n",
    "$$ = (3-\\lambda)[(-\\lambda)(3-\\lambda)-4] - 2[(2)(3-\\lambda)-8] + 4[4+4\\lambda]$$ \n",
    "\n",
    "$$ = \\lambda ^{3} - 6\\lambda ^2 - 15\\lambda + 8$$\n",
    "\n",
    "$$ = (\\lambda -8)(\\lambda +1)^2$$\n",
    "\n",
    "$$ \\implies  \\lambda = -1 \\quad \\text{or} \\quad 8$$"
   ]
  },
  {
   "cell_type": "markdown",
   "metadata": {},
   "source": [
    "The eigenvalues of **B** are -1 and 8.\n",
    "\n",
    "Check this answer with python."
   ]
  },
  {
   "cell_type": "code",
   "execution_count": 9,
   "metadata": {},
   "outputs": [
    {
     "name": "stdout",
     "output_type": "stream",
     "text": [
      "eigenvectors: \n",
      "[[-0.74535599]\n",
      " [ 0.2981424 ]\n",
      " [ 0.59628479]]\n",
      "[[ 0.66666667]\n",
      " [ 0.33333333]\n",
      " [ 0.66666667]]\n",
      "[[-0.20756326]\n",
      " [-0.77602137]\n",
      " [ 0.59557394]]\n",
      "eigenvalues: [-1.  8. -1.]\n"
     ]
    }
   ],
   "source": [
    "import numpy as np\n",
    "B = np.matrix([[3, 2, 4], [2 ,0 ,2],[4,2,3]])\n",
    "eigval, eigvec = np.linalg.eig(B)\n",
    "print(f'eigenvectors: \\n{eigvec[:,0]}\\n{eigvec[:,1]}\\n{eigvec[:,2]}')\n",
    "print(f'eigenvalues: {eigval}')"
   ]
  },
  {
   "cell_type": "markdown",
   "metadata": {},
   "source": [
    "John M. Stockie\n",
    "\n",
    "Fri Sep 8 14:03:35 PDT 2017"
   ]
  }
 ],
 "metadata": {
  "kernelspec": {
   "display_name": "Python 3",
   "language": "python",
   "name": "python3"
  },
  "language_info": {
   "codemirror_mode": {
    "name": "ipython",
    "version": 3
   },
   "file_extension": ".py",
   "mimetype": "text/x-python",
   "name": "python",
   "nbconvert_exporter": "python",
   "pygments_lexer": "ipython3",
   "version": "3.6.2"
  },
  "toc": {
   "nav_menu": {},
   "number_sections": true,
   "sideBar": false,
   "skip_h1_title": false,
   "toc_cell": true,
   "toc_position": {},
   "toc_section_display": "block",
   "toc_window_display": false
  }
 },
 "nbformat": 4,
 "nbformat_minor": 2
}
