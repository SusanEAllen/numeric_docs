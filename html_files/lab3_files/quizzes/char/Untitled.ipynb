{
 "cells": [
  {
   "cell_type": "code",
   "execution_count": 3,
   "metadata": {},
   "outputs": [
    {
     "ename": "SyntaxError",
     "evalue": "invalid syntax (<ipython-input-3-dce27fcdf731>, line 3)",
     "output_type": "error",
     "traceback": [
      "\u001b[0;36m  File \u001b[0;32m\"<ipython-input-3-dce27fcdf731>\"\u001b[0;36m, line \u001b[0;32m3\u001b[0m\n\u001b[0;31m    $$B = \\begin{bmatrix}\u001b[0m\n\u001b[0m    ^\u001b[0m\n\u001b[0;31mSyntaxError\u001b[0m\u001b[0;31m:\u001b[0m invalid syntax\n"
     ]
    }
   ],
   "source": [
    "\n",
    "Given\n",
    "$$B = \\begin{bmatrix} \n",
    "       3 & 2 & 4\\\\\n",
    "       2 & 0 & 2 \\\\\n",
    "       4 & 2 & 3\n",
    "       \\end{bmatrix}$$\n",
    "\n",
    "Substituting the matrix into the characteristic equation:\n",
    "\n",
    "\n",
    "$$0 = \\det \\left (\\begin{bmatrix} \n",
    "    \\vphantom{1}3 & 2 & 4\\\\\n",
    "       2 & 0 & 2 \\vphantom{1}\\\\ 4 & 2 & 3\n",
    "       \\end{bmatrix} - \\lambda \\begin{bmatrix} \n",
    "       1 & 0 & 0\\\\\n",
    "       0 & 1 & 0 \\\\\n",
    "       0 & 0 & 1\n",
    "       \\end{bmatrix}\\right) = 0 $$\n",
    "\n",
    "$$ = \\det \\begin{bmatrix} \n",
    "       3-\\lambda & 2 & 4\\\\\n",
    "       2 & -\\lambda & 2 \\\\\n",
    "       4 & 2 & 3-\\lambda\n",
    "       \\end{bmatrix} $$\n",
    "       \n",
    "$$ = (3-\\lambda)[(-\\lambda)(3-\\lambda)-4] - 2[(2)(3-\\lambda)-8] + 4[4+4\\lambda]$$ \n",
    "\n",
    "$$ = \\lambda ^{3} - 6\\lambda ^2 - 15\\lambda + 8$$\n",
    "\n",
    "$$ = (\\lambda -8)(\\lambda +1)^2$$\n",
    "\n",
    "$$ \\implies  \\lambda = -1 \\quad \\text{or} \\quad 8$$\n",
    "\n",
    "\\end{align}\n",
    "\n",
    "The eigenvalues of **B** are -1 and 8.\n",
    "\n",
    "Check this answer with python.\n"
   ]
  },
  {
   "cell_type": "markdown",
   "metadata": {},
   "source": []
  },
  {
   "cell_type": "code",
   "execution_count": null,
   "metadata": {
    "collapsed": true
   },
   "outputs": [],
   "source": []
  }
 ],
 "metadata": {
  "kernelspec": {
   "display_name": "Python 3",
   "language": "python",
   "name": "python3"
  },
  "language_info": {
   "codemirror_mode": {
    "name": "ipython",
    "version": 3
   },
   "file_extension": ".py",
   "mimetype": "text/x-python",
   "name": "python",
   "nbconvert_exporter": "python",
   "pygments_lexer": "ipython3",
   "version": "3.6.1"
  }
 },
 "nbformat": 4,
 "nbformat_minor": 2
}
